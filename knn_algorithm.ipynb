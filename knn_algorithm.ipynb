{
  "nbformat": 4,
  "nbformat_minor": 0,
  "metadata": {
    "colab": {
      "provenance": [],
      "authorship_tag": "ABX9TyOyCr/5lpODsdnxoMPvmy5h",
      "include_colab_link": true
    },
    "kernelspec": {
      "name": "python3",
      "display_name": "Python 3"
    },
    "language_info": {
      "name": "python"
    }
  },
  "cells": [
    {
      "cell_type": "markdown",
      "metadata": {
        "id": "view-in-github",
        "colab_type": "text"
      },
      "source": [
        "<a href=\"https://colab.research.google.com/github/snehachavhan2004/MLfromscratch/blob/main/knn_algorithm.ipynb\" target=\"_parent\"><img src=\"https://colab.research.google.com/assets/colab-badge.svg\" alt=\"Open In Colab\"/></a>"
      ]
    },
    {
      "cell_type": "code",
      "execution_count": null,
      "metadata": {
        "id": "dte1J86kKs6I"
      },
      "outputs": [],
      "source": [
        "import numpy as np\n",
        "import pandas as pd\n",
        "from sklearn.model_selection import train_test_split\n",
        "from sklearn.neighbors import KNeighborsClassifier\n",
        "import matplotlib.pyplot as plt\n",
        "import seaborn as sns"
      ]
    },
    {
      "cell_type": "code",
      "source": [
        "df = pd.read_csv('/content/breast-cancer.csv')\n",
        "\n",
        "y = df['diagnosis']\n",
        "X = df.drop('diagnosis', axis = 1)\n",
        "\n",
        "X = X.drop('id', axis = 1)\n",
        "# Separating the dependent and independent variable\n",
        "\n",
        "X_train, X_test, y_train, y_test = train_test_split(\n",
        "             X, y, test_size = 0.3, random_state = 0)"
      ],
      "metadata": {
        "id": "EvmGcH3OKybX"
      },
      "execution_count": null,
      "outputs": []
    },
    {
      "cell_type": "code",
      "source": [
        "K = []\n",
        "training = []\n",
        "test = []\n",
        "scores = {}\n",
        "\n",
        "for k in range(2, 21):\n",
        "    clf = KNeighborsClassifier(n_neighbors = k)\n",
        "    clf.fit(X_train, y_train)\n",
        "\n",
        "    training_score = clf.score(X_train, y_train)\n",
        "    test_score = clf.score(X_test, y_test)\n",
        "    K.append(k)\n",
        "\n",
        "    training.append(training_score)\n",
        "    test.append(test_score)\n",
        "    scores[k] = [training_score, test_score]"
      ],
      "metadata": {
        "id": "G5_3i495LN-8"
      },
      "execution_count": null,
      "outputs": []
    },
    {
      "cell_type": "code",
      "source": [
        "for keys, values in scores.items():\n",
        "    print(keys, ':', values)"
      ],
      "metadata": {
        "colab": {
          "base_uri": "https://localhost:8080/"
        },
        "id": "1hwMBNISLTG5",
        "outputId": "c50528e9-0169-47f9-b641-adba23497177"
      },
      "execution_count": null,
      "outputs": [
        {
          "output_type": "stream",
          "name": "stdout",
          "text": [
            "2 : [0.9447236180904522, 0.9298245614035088]\n",
            "3 : [0.9522613065326633, 0.9181286549707602]\n",
            "4 : [0.9447236180904522, 0.9298245614035088]\n",
            "5 : [0.9396984924623115, 0.9473684210526315]\n",
            "6 : [0.9371859296482412, 0.9473684210526315]\n",
            "7 : [0.9371859296482412, 0.9532163742690059]\n",
            "8 : [0.9321608040201005, 0.9532163742690059]\n",
            "9 : [0.9321608040201005, 0.9590643274853801]\n",
            "10 : [0.9321608040201005, 0.9649122807017544]\n",
            "11 : [0.9346733668341709, 0.9649122807017544]\n",
            "12 : [0.9321608040201005, 0.9649122807017544]\n",
            "13 : [0.9296482412060302, 0.9649122807017544]\n",
            "14 : [0.9296482412060302, 0.9649122807017544]\n",
            "15 : [0.9321608040201005, 0.9649122807017544]\n",
            "16 : [0.9271356783919598, 0.9649122807017544]\n",
            "17 : [0.9321608040201005, 0.9649122807017544]\n",
            "18 : [0.9221105527638191, 0.9649122807017544]\n",
            "19 : [0.9246231155778895, 0.9649122807017544]\n",
            "20 : [0.9170854271356784, 0.9649122807017544]\n"
          ]
        }
      ]
    },
    {
      "cell_type": "code",
      "source": [
        "plt.scatter(K, training, color ='k')\n",
        "plt.scatter(K, test, color ='g')\n",
        "plt.show()"
      ],
      "metadata": {
        "colab": {
          "base_uri": "https://localhost:8080/",
          "height": 430
        },
        "id": "NZCGCU4cLWFi",
        "outputId": "6a74a18e-1877-4f44-b747-b59444bacc28"
      },
      "execution_count": null,
      "outputs": [
        {
          "output_type": "display_data",
          "data": {
            "text/plain": [
              "<Figure size 640x480 with 1 Axes>"
            ],
            "image/png": "[encoded data removed]"
          },
          "metadata": {}
        }
      ]
    }
  ]
}