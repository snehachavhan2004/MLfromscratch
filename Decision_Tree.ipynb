{
  "nbformat": 4,
  "nbformat_minor": 0,
  "metadata": {
    "colab": {
      "provenance": [],
      "include_colab_link": true
    },
    "kernelspec": {
      "name": "python3",
      "display_name": "Python 3"
    },
    "language_info": {
      "name": "python"
    }
  },
  "cells": [
    {
      "cell_type": "markdown",
      "metadata": {
        "id": "view-in-github",
        "colab_type": "text"
      },
      "source": [
        "<a href=\"https://colab.research.google.com/github/snehachavhan2004/MLfromscratch/blob/main/Decision_Tree.ipynb\" target=\"_parent\"><img src=\"https://colab.research.google.com/assets/colab-badge.svg\" alt=\"Open In Colab\"/></a>"
      ]
    },
    {
      "cell_type": "code",
      "execution_count": null,
      "metadata": {
        "id": "CaceOiO0yA-B"
      },
      "outputs": [],
      "source": [
        "import numpy as np"
      ]
    },
    {
      "cell_type": "code",
      "source": [
        "# Sample data\n",
        "X = np.array([[0, 0], [1, 1], [1, 0], [0, 1], [1, 1], [0, 0]])\n",
        "y = np.array([0, 1, 1, 0, 1, 0])"
      ],
      "metadata": {
        "id": "M3k2nts2zX1U"
      },
      "execution_count": null,
      "outputs": []
    },
    {
      "cell_type": "code",
      "source": [
        "class DecisionTree:\n",
        "    def __init__(self, depth=0, max_depth=3):\n",
        "        self.depth = depth\n",
        "        self.max_depth = max_depth\n",
        "        self.feature_index = None\n",
        "        self.threshold = None\n",
        "        self.left = None\n",
        "        self.right = None\n",
        "        self.value = None\n",
        "\n",
        "    def fit(self, X, y):\n",
        "        if len(set(y)) == 1 or self.depth >= self.max_depth:\n",
        "            self.value = self._most_common_label(y)\n",
        "            return\n",
        "\n",
        "        num_samples, num_features = X.shape\n",
        "        best_gain = -1\n",
        "\n",
        "        for feature_index in range(num_features):\n",
        "            thresholds = np.unique(X[:, feature_index])\n",
        "            for threshold in thresholds:\n",
        "                gain = self._information_gain(X, y, feature_index, threshold)\n",
        "                if gain > best_gain:\n",
        "                    best_gain = gain\n",
        "                    self.feature_index = feature_index\n",
        "                    self.threshold = threshold\n",
        "\n",
        "        if best_gain == -1:\n",
        "            self.value = self._most_common_label(y)\n",
        "            return\n",
        "\n",
        "        left_indices = X[:, self.feature_index] < self.threshold\n",
        "        right_indices = X[:, self.feature_index] >= self.threshold\n",
        "        self.left = DecisionTree(self.depth + 1, self.max_depth)\n",
        "        self.right = DecisionTree(self.depth + 1, self.max_depth)\n",
        "        self.left.fit(X[left_indices], y[left_indices])\n",
        "        self.right.fit(X[right_indices], y[right_indices])\n",
        "\n",
        "    def _information_gain(self, X, y, feature_index, threshold):\n",
        "        parent_entropy = self._entropy(y)\n",
        "        left_indices = X[:, feature_index] < threshold\n",
        "        right_indices = X[:, feature_index] >= threshold\n",
        "        if len(left_indices) == 0 or len(right_indices) == 0:\n",
        "            return 0\n",
        "        num_left, num_right = sum(left_indices), sum(right_indices)\n",
        "        num_total = num_left + num_right\n",
        "        left_entropy = self._entropy(y[left_indices])\n",
        "        right_entropy = self._entropy(y[right_indices])\n",
        "        child_entropy = (num_left / num_total) * left_entropy + (num_right / num_total) * right_entropy\n",
        "        return parent_entropy - child_entropy\n",
        "\n",
        "    def _entropy(self, y):\n",
        "        proportions = np.bincount(y) / len(y)\n",
        "        return -np.sum([p * np.log2(p) for p in proportions if p > 0])\n",
        "\n",
        "    def _most_common_label(self, y):\n",
        "        return np.bincount(y).argmax()\n",
        "\n",
        "    def predict(self, X):\n",
        "        if self.value is not None:\n",
        "            return self.value\n",
        "        feature_value = X[self.feature_index]\n",
        "        if feature_value < self.threshold:\n",
        "            return self.left.predict(X)\n",
        "        else:\n",
        "            return self.right.predict(X)\n",
        "\n",
        "    def print_tree(self, indent=\"\"):\n",
        "        if self.value is not None:\n",
        "            print(f\"{indent}Predict: {self.value}\")\n",
        "        else:\n",
        "            print(f\"{indent}X[{self.feature_index}] < {self.threshold}\")\n",
        "            self.left.print_tree(indent + \"  \")\n",
        "            self.right.print_tree(indent + \"  \")\n",
        "\n",
        "# Create and train the decision tree\n",
        "tree = DecisionTree(max_depth=3)\n",
        "tree.fit(X, y)\n",
        "tree.print_tree()\n",
        "\n",
        "# Predict the class for a new data point\n",
        "new_point = np.array([0, 0])\n",
        "prediction = tree.predict(new_point)\n",
        "print(\"Predicted class for new point:\", prediction)"
      ],
      "metadata": {
        "colab": {
          "base_uri": "https://localhost:8080/"
        },
        "id": "HoBGIkzp0HON",
        "outputId": "46b64f58-d927-4268-ac1f-b77d4914bc86"
      },
      "execution_count": null,
      "outputs": [
        {
          "output_type": "stream",
          "name": "stdout",
          "text": [
            "X[0] < 1\n",
            "  Predict: 0\n",
            "  Predict: 1\n",
            "Predicted class for new point: 0\n"
          ]
        }
      ]
    },
    {
      "cell_type": "code",
      "source": [
        "# Split the data into training and testing sets\n",
        "from sklearn.model_selection import train_test_split\n",
        "X_train, X_test, y_train, y_test = train_test_split(X, y, test_size=0.33, random_state=42)\n",
        "\n",
        "# Fit the tree on the training data\n",
        "tree.fit(X_train, y_train)\n",
        "\n",
        "# Predict the class for the testing data\n",
        "y_pred = np.array([tree.predict(x) for x in X_test])\n",
        "\n",
        "# Calculate and print accuracy metrics\n",
        "from sklearn.metrics import accuracy_score, precision_score, recall_score, f1_score\n",
        "\n",
        "accuracy = accuracy_score(y_test, y_pred)\n",
        "precision = precision_score(y_test, y_pred)\n",
        "recall = recall_score(y_test, y_pred)\n",
        "f1 = f1_score(y_test, y_pred)\n",
        "\n",
        "print(f\"Accuracy: {accuracy}\")\n",
        "print(f\"Precision: {precision}\")\n",
        "print(f\"Recall: {recall}\")\n",
        "print(f\"F1 Score: {f1}\")\n"
      ],
      "metadata": {
        "colab": {
          "base_uri": "https://localhost:8080/"
        },
        "id": "2c_fksG70ubf",
        "outputId": "ad9043ee-52d6-47ef-ee04-e15f51ff5dfb"
      },
      "execution_count": null,
      "outputs": [
        {
          "output_type": "stream",
          "name": "stdout",
          "text": [
            "Accuracy: 1.0\n",
            "Precision: 1.0\n",
            "Recall: 1.0\n",
            "F1 Score: 1.0\n"
          ]
        }
      ]
    }
  ]
}